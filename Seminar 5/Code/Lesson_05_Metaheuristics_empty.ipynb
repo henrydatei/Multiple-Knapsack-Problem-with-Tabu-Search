{
 "cells": [
  {
   "cell_type": "markdown",
   "metadata": {},
   "source": [
    "---\n",
    "# Praxisteil 4 - Metaheuristiken\n",
    "---"
   ]
  },
  {
   "cell_type": "markdown",
   "metadata": {},
   "source": [
    "---\n",
    "## 1. Iterated Greedy\n",
    "---"
   ]
  },
  {
   "cell_type": "markdown",
   "metadata": {},
   "source": [
    "---\n",
    "### 1.1 Wiederholung allgemeiner Ablauf\n",
    "---"
   ]
  },
  {
   "cell_type": "markdown",
   "metadata": {},
   "source": [
    "Ablauf Iterated Greedy\n",
    "\n",
    "![AblaufIG](../DataFiles/IteratedGreedyAblauf.png)"
   ]
  },
  {
   "cell_type": "markdown",
   "metadata": {},
   "source": [
    "----\n",
    "### 1.2 Startlösung\n",
    "----\n",
    "NEH-Heuristik"
   ]
  },
  {
   "cell_type": "code",
   "execution_count": 1,
   "metadata": {},
   "outputs": [
    {
     "name": "stdout",
     "output_type": "stream",
     "text": [
      "Generating an initial solution according to NEH.\n",
      "Constructive solution found.\n",
      "The permutation [4, 3, 7, 1, 8, 2, 9, 0, 5, 6] results in a Makespan of 752\n"
     ]
    }
   ],
   "source": [
    "from Solver import *\n",
    "\n",
    "data = InputData(\"../TestInstancesJson/Small/VFR10_5_5_SIST.json\")\n",
    "\n",
    "solver = Solver(data, 1060) #1014, 754 |  1060, 736\n",
    "\n",
    "startSolution = solver.ConstructionPhase(\"NEH\")\n",
    "\n",
    "currentSolution = deepcopy(startSolution)\n"
   ]
  },
  {
   "cell_type": "markdown",
   "metadata": {},
   "source": [
    "----\n",
    "### 1.3 Destruktion\n",
    "----\n",
    "Entferne zufällig _numberJobsToRemove_ Aufträge aus aktueller Lösung. Dabei ist _numberJobsToRemove_ ein Parameter des Iterated Greedy.\n",
    "Als Ergebnis ensteht die Menge entfernter Aufträge _removedJobs_ und eine unvollständige Lösung _partialPermutation_."
   ]
  },
  {
   "cell_type": "code",
   "execution_count": 2,
   "metadata": {},
   "outputs": [],
   "source": [
    "numberJobsToRemove = 2 # 1st parameter\n",
    "\n",
    "def Destruction(solution):\n",
    "    removedJobs = solver.RNG.choice(solver.InputData.n, size = numberJobsToRemove, replace = False).tolist()\n",
    "    partialPermutation = [i for i in solution.Permutation if i not in removedJobs]\n",
    "    return removedJobs, partialPermutation\n",
    "\n",
    "rj, pp = Destruction(currentSolution)"
   ]
  },
  {
   "cell_type": "markdown",
   "metadata": {},
   "source": [
    "----\n",
    "### 1.4 Konstruktion\n",
    "----\n",
    "Füge die _removedJobs_ unter Beachtung der Reihenfolge an der jeweils besten Position (NEH) wieder zu _partialPermutation_ hinzu und gib die neue vollständige Lösung zurück. "
   ]
  },
  {
   "cell_type": "code",
   "execution_count": 3,
   "metadata": {},
   "outputs": [],
   "source": [
    "def Construction(removedJobs, partialPermutation):\n",
    "    completeSolution = Solution(solver.InputData.InputJobs, partialPermutation)\n",
    "    for job in removedJobs:\n",
    "        solver.EvaluationLogic.DetermineBestInsertion(completeSolution, job)\n",
    "\n",
    "    return completeSolution\n",
    "\n",
    "newSolution = Construction(rj, pp)"
   ]
  },
  {
   "cell_type": "markdown",
   "metadata": {},
   "source": [
    "----\n",
    "### 1.5 Akzeptanz und Gedächtnis\n",
    "---- \n",
    "Akzeptiere neue Lösung als aktuelle Lösung, wenn\n",
    "* neue Lösung besser als aktuelle Lösung (immer)\n",
    "* Akzeptanzkriterium erfüllt (zufällig)\n",
    "\n",
    "Akzeptanzkriterium bei Ruiz/ Stützle:  $\\pi''$ - neue Lösung (_newSolution_), $\\pi$ - aktuelle Lösung (_currentSolution_)\n",
    "$$\n",
    "    \\begin{equation}\n",
    "    e^{- \\frac{C_{\\max}\\left( \\pi'' \\right) - C_{\\max}\\left( \\pi \\right)}{Temperature}} \\text{ mit } Temperature = T \\cdot \\frac{\\sum Bearbeitungszeiten}{n \\cdot m \\cdot 10}\n",
    "    \\end{equation}\n",
    "$$  \n",
    "$T$ ist der 2. Parameter des Iterated Greedy. Je höher $T$ ist, desto größer ist die Wahrscheinlichkeit, schlechtere Lösungen zu akzeptieren.\n",
    "\n",
    "Neue beste Lösung wird im _SolutionPool_ gespeichert."
   ]
  },
  {
   "cell_type": "code",
   "execution_count": 4,
   "metadata": {},
   "outputs": [],
   "source": [
    "def AcceptWorseSolution(currentObjectiveValue, newObjectiveValue):  \n",
    "    temperature = baseTemperature * solver.InputData.TotalProcessingTime / (solver.InputData.n * solver.InputData.m * 10)\n",
    "    probability = math.exp(-(newObjectiveValue - currentObjectiveValue) / temperature)\n",
    "\n",
    "    return solver.RNG.random() <= probability"
   ]
  },
  {
   "cell_type": "code",
   "execution_count": 5,
   "metadata": {},
   "outputs": [
    {
     "name": "stdout",
     "output_type": "stream",
     "text": [
      "Solution before checking for acceptance: \n",
      "The permutation [4, 3, 7, 1, 8, 2, 9, 0, 5, 6] results in a Makespan of 752\n",
      "Solution after checking for acceptance: \n",
      "The permutation [4, 3, 0, 7, 1, 8, 2, 9, 5, 6] results in a Makespan of 736\n"
     ]
    }
   ],
   "source": [
    "print(f'Solution before checking for acceptance: \\n{currentSolution}')\n",
    "\n",
    "baseTemperature = 1 # 2nd parameter\n",
    "currentBest = solver.SolutionPool.GetLowestMakespanSolution().Makespan\n",
    "\n",
    "if newSolution.Makespan < currentSolution.Makespan:\n",
    "    currentSolution = newSolution\n",
    "    if newSolution.Makespan < currentBest:\n",
    "        solver.SolutionPool.AddSolution(newSolution)\n",
    "        currentBest = newSolution.Makespan\n",
    "else:\n",
    "    if AcceptWorseSolution(currentSolution.Makespan, newSolution.Makespan):\n",
    "        solver.SolutionPool.AddSolution(newSolution)\n",
    "        currentBest = newSolution.Makespan\n",
    "\n",
    "        \n",
    "print(f'Solution after checking for acceptance: \\n{currentSolution}')"
   ]
  },
  {
   "cell_type": "markdown",
   "metadata": {},
   "source": [
    "----\n",
    "### 1.6 Lokale Suche\n",
    "----\n",
    "Verfahren der lokalen Suche können optional verwendet werden, um die aktuelle Lösung zu verbessern. Häufig wird __Iterative Improvement__ mit der Insertion-Nachbarschaft verwendet."
   ]
  },
  {
   "cell_type": "code",
   "execution_count": 6,
   "metadata": {},
   "outputs": [
    {
     "name": "stdout",
     "output_type": "stream",
     "text": [
      "Solution before Local Search:\n",
      "The permutation [4, 3, 0, 7, 1, 8, 2, 9, 5, 6] results in a Makespan of 736\n",
      "Solution after nach Local Search\n",
      "The permutation [1, 8, 4, 3, 0, 5, 2, 7, 9, 6] results in a Makespan of 713\n"
     ]
    }
   ],
   "source": [
    "print(f'Solution before Local Search:\\n{currentSolution}')\n",
    "\n",
    "localSearch = IterativeImprovement(solver.InputData, \"BestImprovement\", [\"Insertion\"])\n",
    "localSearch.Initialize(solver.EvaluationLogic, solver.SolutionPool)\n",
    "currentSolution = localSearch.Run(currentSolution)\n",
    "\n",
    "print(f'Solution after nach Local Search\\n{currentSolution}')"
   ]
  },
  {
   "cell_type": "markdown",
   "metadata": {},
   "source": [
    "----\n",
    "### 1.7 Iterated Greedy als Steuerungsmechanismus der Komponenten\n",
    "----\n",
    "Iterated Greedy ist iterative Abfolge von Destruktion und Konstruktion $\\Rightarrow$ wird in Schleife immer wieder durchgeführt bis Stoppkriterium erreicht ist. \n",
    "\n",
    "Hier im Beispiel ist Stoppkriterium die Anzahl an Iterationen _maxIterations_, aber bspw. auch Zeitlimit oder Anzahl Iterationen ohne Verbesserungen möglich."
   ]
  },
  {
   "cell_type": "code",
   "execution_count": 12,
   "metadata": {},
   "outputs": [],
   "source": [
    "maxIterations = 10 # stop criterion number of iterations\n",
    "\n",
    "def Run(currentSolution):\n",
    "    localSearch = IterativeImprovement(solver.InputData, \"BestImprovement\", [\"Insertion\"])\n",
    "    localSearch.Initialize(solver.EvaluationLogic, solver.SolutionPool)\n",
    "    currentSolution = localSearch.Run(currentSolution)\n",
    "    currentBest = solver.SolutionPool.GetLowestMakespanSolution().Makespan\n",
    "    for i in range(maxIterations):\n",
    "        rj, pp = Destruction(currentSolution)\n",
    "        newSolution = Construction(rj, pp)\n",
    "\n",
    "        if newSolution.Makespan < currentSolution.Makespan:\n",
    "            currentSolution = newSolution\n",
    "            if newSolution.Makespan < currentBest:\n",
    "                solver.SolutionPool.AddSolution(newSolution)\n",
    "                currentBest = newSolution.Makespan\n",
    "            else:\n",
    "                if AcceptWorseSolution(currentSolution.Makespan, newSolution.Makespan):\n",
    "                    solver.SolutionPool.AddSolution(newSolution)\n",
    "                    currentBest = newSolution.Makespan\n",
    "        \n",
    "        currentSolution = localSearch.Run(currentSolution)\n",
    "\n",
    "    return currentSolution"
   ]
  },
  {
   "cell_type": "markdown",
   "metadata": {},
   "source": [
    "Iterated Greedy ausführen"
   ]
  },
  {
   "cell_type": "code",
   "execution_count": 13,
   "metadata": {},
   "outputs": [
    {
     "name": "stdout",
     "output_type": "stream",
     "text": [
      "Generating an initial solution according to NEH.\n",
      "Constructive solution found.\n",
      "The permutation [4, 3, 7, 1, 8, 2, 9, 0, 5, 6] results in a Makespan of 752\n",
      "Best solution found.\n",
      "The permutation [1, 8, 4, 3, 0, 5, 2, 7, 9, 6] results in a Makespan of 713\n"
     ]
    }
   ],
   "source": [
    "solver = Solver(data, 1060)\n",
    "\n",
    "startSolution = solver.ConstructionPhase(\"NEH\")\n",
    "\n",
    "bestSolution = Run(startSolution)\n",
    "\n",
    "print(f'Best solution found.\\n{bestSolution}')"
   ]
  },
  {
   "cell_type": "markdown",
   "metadata": {},
   "source": [
    "---\n",
    "## 2. Klasse für Iterated Greedy\n",
    "---"
   ]
  },
  {
   "cell_type": "markdown",
   "metadata": {},
   "source": [
    "Analog wie für den Algorithmus _IterativeImprovement_ soll jetzt auch für _IteratedGreedy_ eine eigene Klasse angelegt werden, damit eine Instanz der Klasse an den Solver übergeben werden kann.\n",
    "\n",
    "_Iterated Greedy_ soll wie _IterativeImprovement_ von _ImprovementAlgorithm_ erben.\n",
    "\n",
    "Notwendige __Parameter__ sind Attribute:\n",
    "* NumberJobsToRemove\n",
    "* BaseTemperature\n",
    "* MaxIterations\n",
    "* Instanz des Local Search Algorithmus\n",
    "\n",
    "EvaluationLogic, SolutionPool und random number generator werden von Solver an Algorithmus übergeben.\n",
    "\n",
    "__Programmieraufgabe:__ Ergänzen sie die Klasse _IteratedGreedy_, sodass sie an den Solver als Algorithmus übergeben werden kann.\n",
    "\n",
    "__Funktionen:__ Konstruktor, Initialize, Destruction, Construction, AcceptWorseSolution, Run"
   ]
  },
  {
   "cell_type": "code",
   "execution_count": 16,
   "metadata": {},
   "outputs": [],
   "source": [
    "class IteratedGreedy(ImprovementAlgorithm):\n",
    "    def __init__(self, inputData, numberJobsToRemove, baseTemperature, maxIterations, localSearchAlgorithm = None):\n",
    "        super().__init__(inputData)\n",
    "\n",
    "        self.NumberJobsToRemove = numberJobsToRemove\n",
    "        self.BaseTemperature = baseTemperature\n",
    "        self.MaxIterations = maxIterations\n",
    "\n",
    "        if localSearchAlgorithm is not None:\n",
    "            self.LocalSearchAlgorithm = localSearchAlgorithm\n",
    "        else:\n",
    "            self.LocalSearchAlgorithm = IterativeImprovement(self.InputData, neighborhoodTypes=[]) # IterativeImprovement without a neighborhood does not modify the solution\n",
    "    \n",
    "    def Initialize(self, evaluationLogic, solutionPool, rng):\n",
    "        self.EvaluationLogic = evaluationLogic\n",
    "        self.SolutionPool = solutionPool\n",
    "        self.RNG = rng\n",
    "\n",
    "        self.LocalSearchAlgorithm.Initialize(self.EvaluationLogic, self.SolutionPool)\n",
    "    \n",
    "    def Destruction(self, currentSolution):\n",
    "        removedJobs = self.RNG.choice(self.InputData.n, size=self.NumberJobsToRemove, replace = False).tolist()\n",
    "\n",
    "        partialPermutation = [i for i in currentSolution.Permutation if i not in removedJobs]\n",
    "\n",
    "        return removedJobs, partialPermutation\n",
    "\n",
    "    def Construction(self, removedJobs, permutation):\n",
    "        completeSolution = Solution(self.InputData.InputJobs, permutation)\n",
    "        for i in removedJobs:\n",
    "            self.EvaluationLogic.DetermineBestInsertionAccelerated(completeSolution, i)\n",
    "\n",
    "        return completeSolution\n",
    "\n",
    "    def AcceptWorseSolution(self, currentObjectiveValue, newObjectiveValue):\n",
    "        randomNumber = self.RNG.random()\n",
    "\n",
    "        totalProcessingTime = sum(x.ProcessingTime(i) for x in self.InputData.InputJobs for i in range(len(x.Operations)))\n",
    "        Temperature = self.BaseTemperature * totalProcessingTime / (self.InputData.n * self.InputData.m * 10)\n",
    "        probability = math.exp(-(newObjectiveValue - currentObjectiveValue) / Temperature)\n",
    "        \n",
    "        return randomNumber <= probability\n",
    "\n",
    "    def Run(self, currentSolution):\n",
    "        currentSolution = self.LocalSearchAlgorithm.Run(currentSolution)\n",
    "\n",
    "        currentBest = self.SolutionPool.GetLowestMakespanSolution().Makespan\n",
    "        iteration = 0\n",
    "        while(iteration < self.MaxIterations):\n",
    "            removedJobs, partialPermutation = self.Destruction(currentSolution)\n",
    "            newSolution = self.Construction(removedJobs, partialPermutation)\n",
    "\n",
    "            newSolution = self.LocalSearchAlgorithm.Run(newSolution)\n",
    "            \n",
    "            if newSolution.Makespan < currentSolution.Makespan:\n",
    "                currentSolution = newSolution\n",
    "\n",
    "                if newSolution.Makespan < currentBest:\n",
    "                    print(f'New best solution in iteration {iteration}: {currentSolution}')\n",
    "                    self.SolutionPool.AddSolution(currentSolution)\n",
    "                    currentBest = newSolution.Makespan\n",
    "\n",
    "            elif self.AcceptWorseSolution(currentSolution.Makespan, newSolution.Makespan):\n",
    "                currentSolution = newSolution\n",
    "\n",
    "            iteration += 1\n",
    "\n",
    "        return self.SolutionPool.GetLowestMakespanSolution()"
   ]
  },
  {
   "cell_type": "markdown",
   "metadata": {},
   "source": [
    "Der Algorithmus kann jetzt in _RunLocalSearch()_ an den Solver übergeben und ausgeführt werden."
   ]
  },
  {
   "cell_type": "code",
   "execution_count": 17,
   "metadata": {},
   "outputs": [
    {
     "name": "stdout",
     "output_type": "stream",
     "text": [
      "Generating an initial solution according to NEH.\n",
      "Constructive solution found.\n",
      "The permutation [4, 3, 7, 1, 8, 2, 9, 0, 5, 6] results in a Makespan of 752\n",
      "New best solution in iteration 0: The permutation [4, 3, 0, 7, 1, 8, 2, 6, 9, 5] results in a Makespan of 736\n",
      "New best solution in iteration 2: The permutation [8, 4, 3, 0, 7, 1, 2, 6, 9, 5] results in a Makespan of 726\n",
      "New best solution in iteration 7: The permutation [4, 8, 5, 0, 3, 7, 1, 2, 6, 9] results in a Makespan of 724\n",
      "New best solution in iteration 34: The permutation [1, 3, 8, 4, 0, 5, 2, 7, 6, 9] results in a Makespan of 722\n",
      "New best solution in iteration 35: The permutation [1, 8, 3, 4, 0, 5, 2, 7, 6, 9] results in a Makespan of 713\n",
      "Best found Solution.\n",
      "The permutation [1, 8, 3, 4, 0, 5, 2, 7, 6, 9] results in a Makespan of 713\n"
     ]
    }
   ],
   "source": [
    "    data = InputData(\"../TestInstancesJson/Small/VFR10_5_5_SIST.json\") #\"../TestInstancesJson/Small/VFR40_10_3_SIST.json\"\n",
    "\n",
    "    insertion = IterativeImprovement(data, 'BestImprovement', ['Insertion'])\n",
    "    taillardInsertion = IterativeImprovement(data, 'BestImprovement', ['TaillardInsertion'])\n",
    "    iteratedGreedy = IteratedGreedy(\n",
    "        data, \n",
    "        numberJobsToRemove=2, \n",
    "        baseTemperature=1, \n",
    "        maxIterations=100)\n",
    "\n",
    "    solver = Solver(data, 1010)\n",
    "\n",
    "    solver.RunLocalSearch(\n",
    "        constructiveSolutionMethod='NEH',\n",
    "        algorithm=iteratedGreedy)"
   ]
  },
  {
   "cell_type": "markdown",
   "metadata": {},
   "source": [
    "----\n",
    "## 3. Exkurs: DEAP und Genetic Algorithms\n",
    "----\n",
    "\n",
    "Distributed Evolutionary Algorithms in Python ([DEAP](https://github.com/DEAP/deap)) ist ein Framework für Evolutionary Computation, mit u.a. den populationsbasierten Metaheuristiken Genetic Algorithms und Particle Swarm Optimization.\n",
    "\n",
    "![Metaheuristiken](../DataFiles/MH.png)\n",
    "\n",
    "### Wichtige Begriffe für Genetic Algorithms:\n",
    "* Individuum: Einzelne Lösung\n",
    "* Population: Sammlung von Individuen\n",
    "* Generation: Population in einer Iteration\n",
    "* Reproduktion: Erzeugung neuer Individuen aus bekannten Individuen\n",
    "* Selektion: Auswahl von Individuen für Reproduktion und neue Generation\n",
    "* Fitness: Bewertung eines Individuums (Zielfunktionswert)\n",
    "* Mutation: Zufällige Veränderung eines Individuums\n",
    "\n",
    "![GeneticAlgorithm](../DataFiles/GA.png)"
   ]
  },
  {
   "cell_type": "markdown",
   "metadata": {},
   "source": [
    "----\n",
    "### Beispiel DEAP\n",
    "----"
   ]
  },
  {
   "cell_type": "markdown",
   "metadata": {},
   "source": [
    "__Creator__\n",
    "\n",
    "Meta-Factory um Klassen zu erzeugen\n",
    "\n",
    "Parameters:\n",
    "* name – The name of the class to create.\n",
    "* base – A base class from which to inherit.\n",
    "* attribute – One or more attributes to add on instantiation of this class, optional.\n"
   ]
  },
  {
   "cell_type": "code",
   "execution_count": 18,
   "metadata": {},
   "outputs": [],
   "source": [
    "from Solver import *\n",
    "\n",
    "from deap import algorithms\n",
    "from deap import base\n",
    "from deap import creator\n",
    "from deap import tools\n",
    "\n",
    "data = InputData(\"../TestInstancesJson/Small/VFR10_5_5_SIST.json\")\n",
    "\n",
    "solver = Solver(data, 1011)\n",
    "\n",
    "creator.create(\"FitnessMin\", base.Fitness, weights=[-1.0]) # minimization problem, weights as list\n",
    "creator.create(\"Individual\", list, fitness=creator.FitnessMin) # single individual stored in python list"
   ]
  },
  {
   "cell_type": "markdown",
   "metadata": {},
   "source": [
    "__Toolbox__\n",
    "\n",
    "Erzeugt Konfiguration des Algorithmus"
   ]
  },
  {
   "cell_type": "code",
   "execution_count": 19,
   "metadata": {},
   "outputs": [],
   "source": [
    "toolbox = base.Toolbox() \n",
    "\n",
    "# Individual is a permutation of integer indices\n",
    "toolbox.register(\"indices\", solver.RNG.choice, range(solver.InputData.n), solver.InputData.n, replace=False)\n",
    "toolbox.register(\"individual\", tools.initIterate, creator.Individual, toolbox.indices)\n",
    "\n",
    "# Population is a collection of individuals\n",
    "toolbox.register(\"population\", tools.initRepeat, list, toolbox.individual)\n",
    "pop = toolbox.population(100) # 100 individuals in population\n",
    "\n",
    "# Operators\n",
    "toolbox.register(\"mate\", tools.cxPartialyMatched) # set crossover \n",
    "toolbox.register(\"mutate\", tools.mutShuffleIndexes, indpb=0.05) # set mutation\n",
    "toolbox.register(\"select\", tools.selTournament, tournsize=3) # set selection mechanism"
   ]
  },
  {
   "cell_type": "markdown",
   "metadata": {},
   "source": [
    "__Fitness-Funktion__\n",
    "\n",
    "Bewertung eines Indivduums"
   ]
  },
  {
   "cell_type": "code",
   "execution_count": 20,
   "metadata": {},
   "outputs": [],
   "source": [
    "def EvalPFSP(solver, individual):\n",
    "    solution = Solution(solver.InputData.InputJobs, individual)\n",
    "    solver.EvaluationLogic.DefineStartEnd(solution)\n",
    "    return [solution.Makespan]\n",
    "\n",
    "toolbox.register(\"evaluate\", EvalPFSP, solver) # fitness function"
   ]
  },
  {
   "cell_type": "markdown",
   "metadata": {},
   "source": [
    "__Statistiken__\n",
    "\n",
    "Sammlung von Werten während Laufzeit des Algorithmus'"
   ]
  },
  {
   "cell_type": "code",
   "execution_count": 21,
   "metadata": {},
   "outputs": [],
   "source": [
    "stats = tools.Statistics(lambda ind: ind.fitness.values)\n",
    "stats.register(\"avg\", numpy.mean)\n",
    "stats.register(\"std\", numpy.std)\n",
    "stats.register(\"min\", numpy.min)\n",
    "stats.register(\"max\", numpy.max)"
   ]
  },
  {
   "cell_type": "markdown",
   "metadata": {},
   "source": [
    "__Hall of fame__\n",
    "\n",
    "Gedächtnis zum Speichern der besten Lösungen; hier nur beste Lösung"
   ]
  },
  {
   "cell_type": "code",
   "execution_count": 22,
   "metadata": {},
   "outputs": [],
   "source": [
    "hof = tools.HallOfFame(1)"
   ]
  },
  {
   "cell_type": "markdown",
   "metadata": {},
   "source": [
    "__Ausführen__"
   ]
  },
  {
   "cell_type": "code",
   "execution_count": 23,
   "metadata": {},
   "outputs": [
    {
     "name": "stdout",
     "output_type": "stream",
     "text": [
      "gen\tnevals\tavg   \tstd    \tmin\tmax\n",
      "0  \t100   \t866.87\t42.9324\t757\t985\n",
      "1  \t81    \t829.45\t42.7935\t730\t954\n",
      "2  \t82    \t820.48\t40.6065\t743\t915\n",
      "3  \t91    \t809.32\t36.6756\t743\t900\n",
      "4  \t81    \t793.49\t34.1264\t743\t894\n",
      "5  \t78    \t784.84\t36.3518\t739\t895\n",
      "6  \t85    \t778.38\t38.1512\t738\t921\n",
      "7  \t76    \t768.52\t30.2561\t738\t879\n",
      "8  \t90    \t764.48\t25.6743\t738\t871\n",
      "9  \t84    \t769.89\t31.5598\t739\t857\n",
      "10 \t84    \t772.37\t40.845 \t736\t950\n",
      "11 \t83    \t766.35\t34.4184\t736\t879\n",
      "12 \t89    \t762.21\t35.8484\t726\t952\n",
      "13 \t77    \t757.56\t30.777 \t726\t868\n",
      "14 \t90    \t756.72\t26.8652\t726\t840\n",
      "15 \t80    \t757.71\t30.4999\t726\t868\n",
      "16 \t88    \t760.39\t42.3719\t726\t1002\n",
      "17 \t82    \t747.93\t25.1862\t726\t851 \n",
      "18 \t90    \t746.3 \t29.4607\t726\t911 \n",
      "19 \t77    \t737.24\t15.9004\t726\t824 \n",
      "20 \t90    \t732.04\t10.3884\t726\t778 \n",
      "21 \t84    \t730.92\t17.4159\t726\t831 \n",
      "22 \t81    \t731.35\t18.3174\t726\t816 \n",
      "23 \t80    \t728.35\t11.0258\t726\t792 \n",
      "24 \t90    \t728.12\t12.4758\t726\t840 \n",
      "25 \t86    \t728.48\t13.3877\t726\t840 \n",
      "26 \t87    \t728.66\t11.2483\t726\t816 \n",
      "27 \t82    \t730.1 \t16.0253\t726\t819 \n",
      "28 \t77    \t729.55\t18.4279\t726\t840 \n",
      "29 \t88    \t726.52\t2.84774\t726\t743 \n",
      "30 \t81    \t728.49\t10.7596\t726\t809 \n",
      "31 \t79    \t728.61\t12.6625\t726\t840 \n",
      "32 \t73    \t728.36\t13.7786\t726\t854 \n",
      "33 \t86    \t730.1 \t19.135 \t726\t840 \n",
      "34 \t86    \t730.59\t18.4624\t726\t881 \n",
      "35 \t88    \t729.81\t17.1112\t726\t840 \n",
      "36 \t78    \t730.32\t15.6786\t726\t814 \n",
      "37 \t94    \t732.33\t22.1739\t726\t840 \n",
      "38 \t81    \t727.74\t9.88496\t726\t795 \n",
      "39 \t90    \t730.85\t20.0965\t726\t844 \n",
      "40 \t80    \t727.65\t7.83629\t726\t776 \n",
      "41 \t82    \t731.58\t22.892 \t726\t882 \n",
      "42 \t82    \t729.95\t15.1112\t726\t809 \n",
      "43 \t87    \t727.22\t8.66323\t726\t801 \n",
      "44 \t82    \t729   \t13.8181\t726\t824 \n",
      "45 \t89    \t730.82\t19.4213\t726\t840 \n",
      "46 \t87    \t727.36\t9.51054\t726\t816 \n",
      "47 \t90    \t728.37\t10.4649\t726\t786 \n",
      "48 \t74    \t729.99\t14.8745\t726\t831 \n",
      "49 \t88    \t733.83\t24.7443\t726\t854 \n",
      "50 \t79    \t728.5 \t14.9168\t726\t840 \n",
      "51 \t95    \t727.99\t9.50526\t726\t804 \n",
      "52 \t94    \t728.99\t15.0642\t726\t824 \n",
      "53 \t79    \t729.39\t14.741 \t726\t817 \n",
      "54 \t85    \t729.59\t16.5137\t726\t844 \n",
      "55 \t87    \t731.3 \t19.1105\t726\t831 \n",
      "56 \t81    \t728.96\t15.5711\t726\t850 \n",
      "57 \t83    \t728.41\t11.9817\t726\t831 \n",
      "58 \t80    \t729.15\t18.4219\t726\t864 \n",
      "59 \t83    \t731.1 \t21.5905\t726\t871 \n",
      "60 \t85    \t726.81\t5.12581\t726\t774 \n",
      "61 \t85    \t733.04\t26.9236\t726\t882 \n",
      "62 \t92    \t733.47\t22.948 \t726\t840 \n",
      "63 \t85    \t730.44\t17.7315\t726\t878 \n",
      "64 \t82    \t727.02\t4.46985\t726\t755 \n",
      "65 \t85    \t729.35\t13.5561\t726\t840 \n",
      "66 \t89    \t729.75\t14.738 \t726\t824 \n",
      "67 \t91    \t733.06\t24.7636\t726\t918 \n",
      "68 \t86    \t731.47\t20.6017\t726\t840 \n",
      "69 \t88    \t729.6 \t16.8452\t726\t855 \n",
      "70 \t89    \t727.7 \t10.8605\t726\t827 \n",
      "71 \t84    \t728.28\t12.9577\t726\t842 \n",
      "72 \t90    \t729.98\t17.8902\t726\t840 \n",
      "73 \t87    \t728.26\t8.74371\t726\t776 \n",
      "74 \t81    \t730.57\t15.8665\t726\t809 \n",
      "75 \t80    \t730.34\t16.8904\t726\t840 \n",
      "76 \t84    \t727.49\t7.6961 \t726\t776 \n",
      "77 \t82    \t727.74\t10.2124\t726\t814 \n",
      "78 \t88    \t727.35\t7.4221 \t726\t779 \n",
      "79 \t94    \t727.39\t8.39987\t726\t804 \n",
      "80 \t88    \t730.17\t17.542 \t726\t830 \n",
      "81 \t77    \t730.03\t16.5629\t726\t840 \n",
      "82 \t90    \t730.22\t16.8627\t726\t831 \n",
      "83 \t87    \t729.59\t19.9264\t726\t891 \n",
      "84 \t90    \t729.41\t16.0369\t726\t840 \n",
      "85 \t75    \t728.93\t12.8548\t726\t809 \n",
      "86 \t73    \t727.48\t7.63083\t726\t774 \n",
      "87 \t87    \t728.24\t8.29713\t726\t782 \n",
      "88 \t89    \t731.04\t22.6004\t726\t865 \n",
      "89 \t78    \t731.22\t20.3836\t726\t851 \n",
      "90 \t84    \t727.49\t6.40858\t726\t769 \n",
      "91 \t84    \t730.31\t16.9385\t726\t831 \n",
      "92 \t85    \t730.01\t14.9796\t726\t816 \n",
      "93 \t89    \t730.6 \t17.6499\t726\t840 \n",
      "94 \t88    \t732.52\t21.9333\t726\t854 \n",
      "95 \t81    \t729   \t11.0073\t726\t783 \n",
      "96 \t82    \t729.85\t15.6323\t726\t824 \n",
      "97 \t85    \t730.91\t20.8342\t726\t860 \n",
      "98 \t87    \t728.37\t14.5998\t726\t841 \n",
      "99 \t79    \t728.83\t11.7244\t726\t801 \n",
      "100\t81    \t729.12\t13.9766\t726\t824 \n",
      "Best found Solution.\n",
      " The permutation [8, 4, 0, 1, 3, 2, 7, 9, 5, 6] results in a Makespan of 726\n"
     ]
    }
   ],
   "source": [
    "random.seed(solver.Seed)\n",
    "algorithms.eaSimple(population=pop, toolbox=toolbox, cxpb=0.8, mutpb=0.2, ngen=100, stats=stats, halloffame=hof)\n",
    "\n",
    "bestPermutation = hof[0]\n",
    "bestSolution = Solution(solver.InputData.InputJobs, bestPermutation)\n",
    "solver.EvaluationLogic.DefineStartEnd(bestSolution)\n",
    "print(f'Best found Solution.\\n {bestSolution}')"
   ]
  },
  {
   "cell_type": "markdown",
   "metadata": {},
   "source": [
    "----\n",
    "#### Funktion für Solver\n",
    "----\n",
    "\n",
    "Parameter als Argumente\n",
    "* Populationsgröße _populationSize_\n",
    "* Anzahl Generationen _generations_\n",
    "* Rekombinationswahrscheinlichkeit _matingProb_\n",
    "* Mutationswahrscheinlichkeit _mutationProb_"
   ]
  },
  {
   "cell_type": "code",
   "execution_count": 24,
   "metadata": {},
   "outputs": [],
   "source": [
    "def EvalPFSP(self, individual):\n",
    "    solution = Solution(self.InputData.InputJobs, individual)\n",
    "    self.EvaluationLogic.DefineStartEnd(solution)\n",
    "    return [solution.Makespan]\n",
    "\n",
    "def RunGeneticAlgorithm(self, populationSize, generations, matingProb, mutationProb):\n",
    "    # Creator - meta-factory to create new classes\n",
    "    creator.create(\"FitnessMin\", base.Fitness, weights=[-1.0])\n",
    "    creator.create(\"Individual\", list, fitness=creator.FitnessMin)\n",
    "\n",
    "    toolbox = base.Toolbox() \n",
    "\n",
    "    # Individual is a permutation of integer indices\n",
    "    toolbox.register(\"indices\", solver.RNG.choice, range(self.InputData.n), self.InputData.n, replace=False)\n",
    "    toolbox.register(\"individual\", tools.initIterate, creator.Individual, toolbox.indices)\n",
    "\n",
    "    # Population is a collection of individuals\n",
    "    toolbox.register(\"population\", tools.initRepeat, list, toolbox.individual)\n",
    "    pop = toolbox.population(populationSize) # number of individuals in population\n",
    "\n",
    "    # Operators\n",
    "    toolbox.register(\"mate\", tools.cxPartialyMatched) # set crossover \n",
    "    toolbox.register(\"mutate\", tools.mutShuffleIndexes, indpb=0.05) # set mutation\n",
    "    toolbox.register(\"select\", tools.selTournament, tournsize=3) # set selection mechanism\n",
    "    \n",
    "    # Fitness function\n",
    "    toolbox.register(\"evaluate\", self.EvalPFSP) \n",
    "    \n",
    "    # Statistics during run time\n",
    "    stats = tools.Statistics(lambda ind: ind.fitness.values)\n",
    "    stats.register(\"avg\", numpy.mean)\n",
    "    stats.register(\"std\", numpy.std)\n",
    "    stats.register(\"min\", numpy.min)\n",
    "    stats.register(\"max\", numpy.max)\n",
    "            \n",
    "    # Hall of fame --> Best individual\n",
    "    hof = tools.HallOfFame(1)\n",
    "\n",
    "    random.seed(self.Seed)\n",
    "    algorithms.eaSimple(population=pop, toolbox=toolbox, cxpb=matingProb, mutpb=mutationProb, ngen=generations, stats=stats, halloffame=hof)\n",
    "\n",
    "    bestPermutation = hof[0]\n",
    "    bestSolution = Solution(self.InputData.InputJobs, bestPermutation)\n",
    "    self.EvaluationLogic.DefineStartEnd(bestSolution)\n",
    "    print(f'Best found Solution.\\n {bestSolution}')\n",
    "\n",
    "Solver.EvalPFSP = EvalPFSP\n",
    "Solver.RunGeneticAlgorithm = RunGeneticAlgorithm"
   ]
  },
  {
   "cell_type": "markdown",
   "metadata": {},
   "source": [
    "Vergleich Iterated Greedy und Genetic Algorithm"
   ]
  },
  {
   "cell_type": "code",
   "execution_count": 25,
   "metadata": {
    "tags": [
     "outputPrepend"
    ]
   },
   "outputs": [
    {
     "name": "stdout",
     "output_type": "stream",
     "text": [
      "Generating an initial solution according to NEH.\n",
      "Constructive solution found.\n",
      "The permutation [61, 80, 51, 99, 11, 8, 62, 41, 24, 94, 67, 63, 0, 27, 31, 30, 82, 52, 91, 1, 19, 59, 89, 4, 49, 88, 25, 47, 85, 81, 38, 23, 5, 56, 71, 93, 83, 2, 64, 33, 96, 20, 21, 77, 78, 13, 60, 74, 98, 90, 6, 76, 9, 3, 42, 84, 50, 86, 95, 72, 97, 35, 40, 92, 15, 39, 10, 68, 43, 17, 26, 36, 18, 57, 44, 29, 54, 79, 55, 22, 48, 53, 75, 16, 73, 12, 58, 28, 32, 87, 70, 34, 7, 66, 45, 69, 14, 65, 46, 37] results in a Makespan of 6596\n",
      "New best solution in iteration 2: The permutation [51, 61, 28, 80, 8, 62, 99, 31, 52, 63, 11, 94, 41, 67, 1, 82, 30, 91, 24, 4, 59, 47, 49, 88, 81, 85, 25, 38, 27, 23, 89, 71, 5, 56, 93, 83, 33, 96, 20, 77, 64, 17, 13, 19, 78, 60, 98, 90, 21, 6, 76, 43, 9, 3, 84, 86, 95, 40, 10, 35, 42, 74, 92, 15, 39, 97, 68, 26, 36, 18, 57, 0, 44, 29, 50, 54, 79, 55, 22, 48, 53, 75, 16, 73, 12, 58, 32, 87, 70, 34, 7, 66, 72, 45, 69, 14, 2, 65, 46, 37] results in a Makespan of 6424\n",
      "New best solution in iteration 7: The permutation [51, 61, 28, 80, 8, 62, 99, 41, 31, 52, 63, 11, 67, 94, 82, 30, 1, 91, 24, 4, 59, 47, 49, 88, 25, 81, 85, 38, 27, 23, 89, 71, 5, 56, 93, 83, 33, 96, 20, 64, 17, 13, 19, 78, 60, 98, 90, 21, 6, 76, 43, 9, 3, 84, 86, 95, 77, 40, 10, 35, 42, 92, 15, 39, 97, 68, 26, 36, 18, 57, 0, 44, 29, 74, 50, 54, 55, 79, 22, 48, 53, 75, 16, 73, 12, 58, 32, 87, 70, 34, 7, 66, 72, 45, 69, 14, 2, 65, 46, 37] results in a Makespan of 6406\n",
      "New best solution in iteration 13: The permutation [51, 61, 28, 80, 8, 62, 41, 99, 31, 52, 63, 11, 67, 94, 1, 82, 30, 91, 24, 4, 59, 47, 49, 88, 81, 85, 25, 38, 27, 23, 89, 71, 5, 56, 93, 83, 33, 96, 20, 64, 17, 13, 78, 98, 60, 90, 0, 21, 6, 19, 76, 43, 9, 3, 84, 86, 95, 77, 40, 10, 35, 42, 92, 15, 39, 97, 68, 26, 57, 18, 44, 29, 74, 50, 54, 55, 79, 22, 48, 53, 75, 12, 16, 58, 32, 87, 70, 36, 73, 34, 7, 66, 72, 45, 69, 14, 2, 65, 46, 37] results in a Makespan of 6394\n",
      "New best solution in iteration 20: The permutation [51, 61, 28, 80, 8, 62, 41, 99, 31, 52, 63, 11, 67, 94, 1, 82, 30, 91, 24, 4, 59, 47, 49, 88, 81, 85, 25, 38, 27, 23, 89, 71, 5, 56, 93, 83, 96, 20, 64, 17, 78, 13, 33, 98, 60, 19, 90, 0, 21, 6, 76, 43, 9, 3, 84, 86, 95, 10, 77, 40, 35, 42, 92, 15, 39, 97, 68, 26, 57, 18, 44, 29, 50, 54, 74, 79, 55, 22, 48, 53, 75, 12, 58, 16, 32, 87, 70, 36, 73, 34, 7, 66, 72, 45, 69, 14, 2, 65, 46, 37] results in a Makespan of 6386\n",
      "New best solution in iteration 30: The permutation [51, 61, 28, 80, 8, 62, 41, 99, 31, 52, 63, 11, 67, 94, 1, 82, 30, 91, 24, 4, 59, 47, 49, 81, 85, 25, 88, 38, 27, 23, 89, 71, 5, 56, 93, 9, 83, 96, 20, 64, 17, 78, 13, 33, 98, 60, 19, 90, 76, 43, 21, 6, 3, 84, 86, 95, 10, 77, 40, 35, 92, 42, 15, 0, 39, 97, 68, 26, 57, 18, 44, 29, 50, 74, 54, 55, 79, 22, 48, 53, 75, 12, 58, 16, 32, 87, 70, 36, 73, 34, 7, 66, 72, 45, 69, 14, 2, 65, 46, 37] results in a Makespan of 6385\n",
      "New best solution in iteration 33: The permutation [51, 61, 28, 80, 8, 62, 41, 99, 31, 52, 63, 11, 67, 94, 1, 82, 30, 91, 24, 4, 59, 47, 49, 88, 81, 85, 25, 38, 27, 23, 89, 71, 5, 56, 93, 9, 96, 20, 64, 83, 17, 78, 33, 98, 13, 60, 19, 90, 76, 43, 21, 6, 3, 84, 86, 95, 10, 77, 40, 35, 92, 42, 15, 0, 39, 97, 68, 26, 57, 18, 44, 29, 50, 74, 54, 55, 79, 22, 48, 53, 75, 12, 58, 16, 32, 87, 70, 36, 73, 34, 7, 66, 72, 45, 69, 14, 2, 65, 46, 37] results in a Makespan of 6383\n",
      "Best found Solution.\n",
      "The permutation [51, 61, 28, 80, 8, 62, 41, 99, 31, 52, 63, 11, 67, 94, 1, 82, 30, 91, 24, 4, 59, 47, 49, 88, 81, 85, 25, 38, 27, 23, 89, 71, 5, 56, 93, 9, 96, 20, 64, 83, 17, 78, 33, 98, 13, 60, 19, 90, 76, 43, 21, 6, 3, 84, 86, 95, 10, 77, 40, 35, 92, 42, 15, 0, 39, 97, 68, 26, 57, 18, 44, 29, 50, 74, 54, 55, 79, 22, 48, 53, 75, 12, 58, 16, 32, 87, 70, 36, 73, 34, 7, 66, 72, 45, 69, 14, 2, 65, 46, 37] results in a Makespan of 6383\n"
     ]
    },
    {
     "name": "stderr",
     "output_type": "stream",
     "text": [
      "/usr/local/lib/python3.9/site-packages/deap/creator.py:138: RuntimeWarning: A class named 'FitnessMin' has already been created and it will be overwritten. Consider deleting previous creation of that class or rename it.\n",
      "  warnings.warn(\"A class named '{0}' has already been created and it \"\n",
      "/usr/local/lib/python3.9/site-packages/deap/creator.py:138: RuntimeWarning: A class named 'Individual' has already been created and it will be overwritten. Consider deleting previous creation of that class or rename it.\n",
      "  warnings.warn(\"A class named '{0}' has already been created and it \"\n"
     ]
    },
    {
     "name": "stdout",
     "output_type": "stream",
     "text": [
      "gen\tnevals\tavg    \tstd    \tmin \tmax \n",
      "0  \t100   \t7844.37\t143.006\t7500\t8126\n",
      "1  \t78    \t7767.61\t149.492\t7452\t8199\n",
      "2  \t78    \t7707.43\t113.262\t7346\t7997\n",
      "3  \t76    \t7689.86\t134.223\t7418\t8138\n",
      "4  \t77    \t7675.46\t141.889\t7425\t8105\n",
      "5  \t90    \t7666.71\t141.713\t7420\t8145\n",
      "6  \t78    \t7632.73\t136.821\t7411\t8118\n",
      "7  \t86    \t7605.7 \t137.468\t7371\t7964\n",
      "8  \t82    \t7596.6 \t149.14 \t7278\t8035\n",
      "9  \t76    \t7569.05\t125.122\t7278\t7907\n",
      "10 \t81    \t7549.81\t136.695\t7300\t8057\n",
      "11 \t88    \t7573.88\t153.392\t7262\t8111\n",
      "12 \t87    \t7535.16\t135.361\t7262\t7859\n",
      "13 \t86    \t7519.79\t138.436\t7221\t7923\n",
      "14 \t87    \t7531.76\t157.896\t7288\t8240\n",
      "15 \t86    \t7513.31\t148.557\t7270\t7894\n",
      "16 \t85    \t7466.2 \t122.054\t7243\t7794\n",
      "17 \t71    \t7480.18\t135.351\t7243\t7901\n",
      "18 \t91    \t7495.01\t149.883\t7256\t7909\n",
      "19 \t85    \t7493.16\t149.326\t7272\t7939\n",
      "20 \t89    \t7497.03\t166.726\t7263\t8022\n",
      "21 \t86    \t7471.71\t141.29 \t7216\t7791\n",
      "22 \t92    \t7471.26\t134.687\t7251\t7797\n",
      "23 \t84    \t7493.63\t132.505\t7256\t7865\n",
      "24 \t93    \t7491.55\t134.574\t7181\t7903\n",
      "25 \t83    \t7478.33\t130.588\t7195\t7815\n",
      "26 \t82    \t7471.24\t130.01 \t7195\t7801\n",
      "27 \t85    \t7472.29\t140.282\t7219\t7888\n",
      "28 \t79    \t7462.49\t141.643\t7212\t7944\n",
      "29 \t82    \t7434.33\t121.531\t7162\t7704\n",
      "30 \t79    \t7432.72\t130.187\t7155\t7754\n",
      "31 \t85    \t7435.93\t144.129\t7187\t7844\n",
      "32 \t93    \t7431.65\t143.018\t7162\t7917\n",
      "33 \t90    \t7405.35\t122.247\t7162\t7734\n",
      "34 \t83    \t7376.52\t120.934\t7175\t7653\n",
      "35 \t82    \t7352.3 \t117.514\t7173\t7777\n",
      "36 \t85    \t7342.63\t115.134\t7122\t7744\n",
      "37 \t84    \t7341.48\t110.456\t7122\t7687\n",
      "38 \t85    \t7338.52\t120.127\t7122\t7700\n",
      "39 \t81    \t7330.25\t114.906\t7122\t7764\n",
      "40 \t83    \t7317.82\t120.887\t7124\t7706\n",
      "41 \t88    \t7334.52\t131.066\t7124\t7791\n",
      "42 \t91    \t7328.52\t119.617\t7023\t7624\n",
      "43 \t83    \t7331   \t115.285\t7023\t7611\n",
      "44 \t84    \t7301.49\t116.563\t7057\t7624\n",
      "45 \t85    \t7298.79\t124.084\t7057\t7628\n",
      "46 \t78    \t7265.42\t118.265\t7046\t7652\n",
      "47 \t86    \t7234.98\t116.807\t7032\t7513\n",
      "48 \t78    \t7221.86\t128.286\t7046\t7634\n",
      "49 \t77    \t7184.26\t93.9004\t7028\t7454\n",
      "50 \t83    \t7180.53\t97.7587\t7011\t7539\n",
      "51 \t82    \t7176.87\t100.729\t7011\t7537\n",
      "52 \t80    \t7175.89\t94.5552\t6970\t7396\n",
      "53 \t84    \t7153.91\t91.9732\t6995\t7447\n",
      "54 \t82    \t7160.56\t115.791\t6954\t7535\n",
      "55 \t84    \t7112.81\t83.3679\t6954\t7338\n",
      "56 \t87    \t7107.37\t96.9919\t6947\t7453\n",
      "57 \t84    \t7104.28\t90.962 \t6954\t7396\n",
      "58 \t78    \t7106.67\t98.2754\t6954\t7366\n",
      "59 \t77    \t7091.23\t92.6131\t6975\t7420\n",
      "60 \t84    \t7100.24\t93.0082\t6975\t7342\n",
      "61 \t91    \t7080.33\t82.8357\t6954\t7376\n",
      "62 \t86    \t7068.89\t90.9673\t6954\t7333\n",
      "63 \t90    \t7070.54\t92.6703\t6948\t7307\n",
      "64 \t86    \t7032.1 \t74.0248\t6937\t7291\n",
      "65 \t78    \t7004.33\t72.9004\t6920\t7289\n",
      "66 \t86    \t7021.21\t94.3149\t6923\t7366\n",
      "67 \t86    \t7002.71\t80.7288\t6923\t7232\n",
      "68 \t79    \t6996.07\t100.958\t6923\t7423\n",
      "69 \t80    \t6973.6 \t62.8462\t6920\t7256\n",
      "70 \t79    \t6972.72\t74.5803\t6920\t7257\n",
      "71 \t85    \t6965.08\t76.3112\t6915\t7268\n",
      "72 \t87    \t6957.34\t73.8027\t6908\t7235\n",
      "73 \t82    \t6959.42\t80.831 \t6896\t7318\n",
      "74 \t93    \t6969.57\t90.5203\t6896\t7350\n",
      "75 \t86    \t6972.9 \t93.3869\t6908\t7331\n",
      "76 \t89    \t6962.9 \t89.9028\t6908\t7326\n",
      "77 \t78    \t6946.62\t72.0018\t6908\t7213\n",
      "78 \t78    \t6950.64\t76.752 \t6908\t7239\n",
      "79 \t85    \t6959.22\t99.1994\t6908\t7337\n",
      "80 \t80    \t6940.47\t66.6672\t6908\t7175\n",
      "81 \t92    \t6965.49\t101.024\t6908\t7422\n",
      "82 \t79    \t6959.01\t96.9899\t6908\t7285\n",
      "83 \t72    \t6941.64\t78.3217\t6908\t7224\n",
      "84 \t74    \t6948.26\t86.9867\t6908\t7315\n",
      "85 \t87    \t6951.48\t86.1804\t6908\t7312\n",
      "86 \t87    \t6936.4 \t75.5966\t6908\t7314\n",
      "87 \t84    \t6951.77\t99.1516\t6908\t7358\n",
      "88 \t92    \t6944.86\t87.2779\t6908\t7299\n",
      "89 \t86    \t6945.91\t97.4072\t6908\t7329\n",
      "90 \t80    \t6948.72\t93.5683\t6905\t7326\n",
      "91 \t78    \t6935.89\t69.951 \t6905\t7184\n",
      "92 \t86    \t6934.22\t70.1522\t6905\t7278\n",
      "93 \t81    \t6946.89\t87.9868\t6905\t7297\n",
      "94 \t91    \t6951.7 \t87.3539\t6905\t7303\n",
      "95 \t83    \t6949.61\t94.9931\t6905\t7396\n",
      "96 \t84    \t6953.39\t102.661\t6905\t7427\n",
      "97 \t82    \t6943.4 \t84.227 \t6905\t7250\n",
      "98 \t94    \t6936.15\t80.6334\t6905\t7315\n",
      "99 \t83    \t6943.31\t85.4773\t6905\t7295\n",
      "100\t88    \t6944.77\t86.6418\t6905\t7241\n",
      "101\t85    \t6934.73\t72.6036\t6905\t7314\n",
      "102\t89    \t6940.55\t84.1777\t6905\t7282\n",
      "103\t91    \t6931.97\t72.7524\t6905\t7341\n",
      "104\t82    \t6946.25\t84.9651\t6905\t7291\n",
      "105\t87    \t6954.13\t102.448\t6905\t7417\n",
      "106\t83    \t6937.21\t79.1947\t6905\t7222\n",
      "107\t89    \t6953.99\t89.8824\t6905\t7245\n",
      "108\t88    \t6930.43\t65.1156\t6905\t7221\n",
      "109\t88    \t6955.93\t104.894\t6905\t7404\n",
      "110\t96    \t6955.45\t97.1419\t6905\t7338\n",
      "111\t76    \t6934.26\t75.2814\t6905\t7237\n",
      "112\t86    \t6948.64\t86.2935\t6905\t7230\n",
      "113\t86    \t6941.4 \t84.6683\t6905\t7279\n",
      "114\t84    \t6936.57\t73.6241\t6905\t7227\n",
      "115\t92    \t6950.89\t96.7816\t6905\t7355\n",
      "116\t83    \t6950.28\t88.8948\t6905\t7295\n",
      "117\t88    \t6944.05\t77.9763\t6892\t7228\n",
      "118\t89    \t6927.28\t67.3019\t6892\t7200\n",
      "119\t90    \t6923.38\t64.3067\t6892\t7198\n",
      "120\t84    \t6936.44\t83.3103\t6892\t7226\n",
      "121\t80    \t6940.21\t85.9039\t6892\t7248\n",
      "122\t91    \t6927.46\t68.5708\t6892\t7200\n",
      "123\t81    \t6933.05\t86.8727\t6892\t7241\n",
      "124\t79    \t6923.74\t82.427 \t6892\t7282\n",
      "125\t83    \t6925.63\t78.0966\t6892\t7251\n",
      "126\t84    \t6921.97\t79.1937\t6892\t7356\n",
      "127\t87    \t6932.9 \t82.2412\t6892\t7172\n",
      "128\t82    \t6927.27\t77.6815\t6892\t7320\n",
      "129\t89    \t6941.78\t101.5  \t6892\t7412\n",
      "130\t82    \t6924.13\t69.6954\t6892\t7186\n",
      "131\t86    \t6941.99\t103.161\t6892\t7401\n",
      "132\t88    \t6927.88\t78.1531\t6892\t7242\n",
      "133\t92    \t6939.83\t101.854\t6892\t7398\n",
      "134\t89    \t6926.23\t80.1105\t6892\t7353\n",
      "135\t79    \t6936.88\t94.3636\t6892\t7268\n",
      "136\t85    \t6937.33\t90.3757\t6892\t7301\n",
      "137\t84    \t6933.14\t88.87  \t6892\t7291\n",
      "138\t88    \t6918.97\t74.2204\t6892\t7279\n",
      "139\t86    \t6939.56\t112.892\t6892\t7528\n",
      "140\t80    \t6933.57\t89.0879\t6892\t7322\n",
      "141\t83    \t6920.39\t72.1342\t6892\t7239\n",
      "142\t83    \t6924.76\t85.8404\t6892\t7334\n",
      "143\t88    \t6933.51\t85.3757\t6892\t7232\n",
      "144\t84    \t6929.86\t76.348 \t6892\t7201\n",
      "145\t90    \t6923.32\t68.5826\t6892\t7186\n",
      "146\t93    \t6921.1 \t65.1763\t6892\t7138\n",
      "147\t86    \t6923.27\t77.107 \t6892\t7210\n",
      "148\t92    \t6921.72\t79.3123\t6892\t7273\n",
      "149\t91    \t6928.78\t82.1227\t6869\t7228\n",
      "150\t84    \t6936.76\t91.32  \t6892\t7300\n",
      "151\t79    \t6929   \t88.6442\t6892\t7350\n",
      "152\t85    \t6921.81\t79.753 \t6892\t7303\n",
      "153\t79    \t6925.73\t75.349 \t6892\t7213\n",
      "154\t82    \t6934.43\t86.25  \t6892\t7317\n",
      "155\t90    \t6934.17\t89.0593\t6892\t7290\n",
      "156\t85    \t6928.32\t75.5112\t6892\t7180\n",
      "157\t78    \t6933.5 \t84.4454\t6892\t7230\n",
      "158\t84    \t6938.53\t104.017\t6892\t7360\n",
      "159\t79    \t6921.93\t76.2473\t6892\t7224\n",
      "160\t79    \t6921.43\t70.6101\t6892\t7196\n",
      "161\t87    \t6916.9 \t72.6417\t6892\t7294\n",
      "162\t82    \t6926.13\t77.6054\t6892\t7206\n",
      "163\t93    \t6933.49\t93.6444\t6892\t7267\n",
      "164\t87    \t6929.56\t72.8238\t6892\t7165\n",
      "165\t80    \t6937.28\t89.0573\t6892\t7265\n",
      "166\t84    \t6937.3 \t95.0227\t6892\t7243\n",
      "167\t88    \t6927.29\t79.2739\t6892\t7323\n",
      "168\t82    \t6940.49\t94.3067\t6892\t7254\n",
      "169\t83    \t6930.62\t83.4109\t6892\t7198\n",
      "170\t90    \t6928.52\t83.912 \t6892\t7291\n",
      "171\t81    \t6936.11\t95.4261\t6892\t7325\n",
      "172\t84    \t6935.86\t103.93 \t6892\t7300\n",
      "173\t87    \t6919.66\t70.7509\t6892\t7282\n",
      "174\t92    \t6934.71\t82.9771\t6892\t7261\n",
      "175\t84    \t6927.6 \t86.2074\t6892\t7286\n",
      "176\t94    \t6944.21\t106.219\t6892\t7372\n",
      "177\t82    \t6941.09\t99.312 \t6892\t7362\n",
      "178\t82    \t6943.32\t97.5968\t6892\t7342\n",
      "179\t81    \t6945.17\t108.352\t6892\t7350\n",
      "180\t85    \t6921.12\t75.3715\t6892\t7259\n",
      "181\t79    \t6933.95\t87.4275\t6892\t7232\n",
      "182\t89    \t6931.65\t80.5869\t6892\t7164\n",
      "183\t78    \t6936.06\t93.5201\t6892\t7310\n",
      "184\t93    \t6932.91\t88.5228\t6892\t7326\n",
      "185\t87    \t6937.02\t94.7588\t6892\t7296\n",
      "186\t95    \t6930.94\t90.9745\t6892\t7314\n",
      "187\t86    \t6931.66\t84.7272\t6892\t7279\n",
      "188\t85    \t6927.89\t76.0972\t6892\t7164\n",
      "189\t85    \t6924.59\t78.2929\t6892\t7245\n",
      "190\t88    \t6929.98\t83.4023\t6892\t7348\n",
      "191\t87    \t6930.27\t88.8618\t6892\t7466\n",
      "192\t87    \t6926.34\t82.8939\t6892\t7238\n",
      "193\t87    \t6927.95\t72.3202\t6892\t7225\n",
      "194\t88    \t6930.4 \t73.3398\t6892\t7145\n",
      "195\t91    \t6931.55\t80.7095\t6887\t7231\n",
      "196\t81    \t6934.73\t85.7757\t6887\t7258\n",
      "197\t90    \t6926.97\t82.0952\t6887\t7344\n",
      "198\t86    \t6934.93\t97.9381\t6887\t7342\n",
      "199\t74    \t6924.86\t77.5787\t6887\t7236\n",
      "200\t87    \t6930.36\t84.5079\t6887\t7233\n",
      "Best found Solution.\n",
      " The permutation [56, 40, 68, 31, 10, 57, 50, 19, 27, 84, 52, 42, 28, 0, 63, 92, 91, 11, 2, 25, 80, 71, 16, 89, 59, 51, 9, 44, 48, 21, 35, 75, 18, 33, 47, 60, 58, 8, 39, 74, 12, 54, 5, 87, 78, 76, 3, 83, 69, 55, 82, 24, 4, 81, 30, 73, 93, 79, 97, 36, 1, 64, 45, 20, 22, 41, 94, 88, 23, 38, 90, 62, 26, 49, 67, 98, 86, 13, 15, 7, 77, 29, 43, 99, 34, 53, 85, 66, 32, 61, 96, 72, 37, 46, 6, 95, 70, 65, 17, 14] results in a Makespan of 6869\n"
     ]
    }
   ],
   "source": [
    "data = InputData(\"../TestInstancesJson/Large/VFR100_20_1_SIST.json\") # TestInstances/Small/VFR40_10_3_SIST.txt \n",
    "\n",
    "taillardInsertion = IterativeImprovement(data, 'FirstImprovement', neighborhoodTypes=['TaillardInsertion'])\n",
    "iteratedGreedy = IteratedGreedy(\n",
    "    data, \n",
    "    numberJobsToRemove=2, \n",
    "    baseTemperature=1, \n",
    "    maxIterations=50, \n",
    "    localSearchAlgorithm=taillardInsertion)\n",
    "\n",
    "solver = Solver(data, 1010)\n",
    "\n",
    "solver.RunLocalSearch(\n",
    "    constructiveSolutionMethod='NEH',\n",
    "    algorithm=iteratedGreedy)\n",
    "    \n",
    "solver.RunGeneticAlgorithm(\n",
    "    populationSize=100, \n",
    "    generations=200, \n",
    "    matingProb=0.8, \n",
    "    mutationProb=0.2)\n"
   ]
  }
 ],
 "metadata": {
  "interpreter": {
   "hash": "aee8b7b246df8f9039afb4144a1f6fd8d2ca17a180786b69acc140d282b71a49"
  },
  "kernelspec": {
   "display_name": "Python 3.9.12 64-bit",
   "language": "python",
   "name": "python3"
  },
  "language_info": {
   "codemirror_mode": {
    "name": "ipython",
    "version": 3
   },
   "file_extension": ".py",
   "mimetype": "text/x-python",
   "name": "python",
   "nbconvert_exporter": "python",
   "pygments_lexer": "ipython3",
   "version": "3.9.12"
  },
  "orig_nbformat": 2
 },
 "nbformat": 4,
 "nbformat_minor": 2
}
