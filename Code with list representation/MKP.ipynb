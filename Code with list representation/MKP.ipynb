{
 "cells": [
  {
   "cell_type": "markdown",
   "metadata": {},
   "source": [
    "# Multiple Knapsack Problem\n",
    "\n",
    "Lösungen des MKP werden in einer Liste dargestellt. Jedes Item hat eine ID, die den Index in dieser Liste darstellt. Den Wert an dieser Stelle entspricht der Knapsack-ID, sodass z.B. folgende Lösung [1, 1, -1, 2, 0] bedeutet, dass folgenden Zuordnung getroffen wurde:\n",
    "- Knapsack 0: Item mit ID 4\n",
    "- Knapsack 1: Items mit ID 0 und 1\n",
    "- Knapsack 2: Item mit ID 3\n",
    "Das Item mit ID 2 wurde nicht zugeordnet und damit auch in keinen Knapsack gepackt.\n",
    "\n",
    "Diese Repräsentation hat den Vorteil, dass man möglichst viel von der Codebasis aus dem Seminar benutzen kann, man muss nur kleinere Änderungen machen. Insbesondere habe ich überall Type Hints hinzugefügt und eine Klassen zu Dataclasses gemacht, was das Weiterbenutzen des Codes viel leichter macht und den Code auch verständlicher macht.\n",
    "\n",
    "Ein Lösungsobjekt kann einfach aus der Listendarstellung erzeugt werden und besitzt folgende Methoden und Attribute:\n",
    "- `allocation`: Die Liste, die die Zuordnungen zwischen Item und Knapsack enthält\n",
    "- `penalty`: Jedes restliche Volumen im Knapsack wird bestraft. Die Summe der Strafen ist in `penalty` gespeichert.\n",
    "- `earnings`: Jedes Item ist unterschiedlich viel Wert. Sie Summe der Werte der einzelnen mitgenommenen Items wird in `earnings` gespeichert.\n",
    "- `profit`: `earnings - penalty`\n",
    "- `Solution.printSolution()` gibt eine übersichtlichere Darstellung der Lösung aus\n",
    "- `Solution.to_json(filename: str, includeEarnings = False, includePenalty = False, force = False)` schreibt die Lösung im JSON-Format in die angegebene Datei. Es wird überprüft ob die Datei schon exisiert, wenn ja, wird diese nicht überschrieben, es sei denn `force = True`. Die Earnings und Penalties werden normalerweise nicht mit abgespeichert, dies lässt sich mittels `includeEarnings` und `includePenalty` ändern."
   ]
  },
  {
   "cell_type": "code",
   "execution_count": 5,
   "metadata": {},
   "outputs": [
    {
     "name": "stdout",
     "output_type": "stream",
     "text": [
      "Knapsack 0: [7, 12]\n",
      "Knapsack 1: [3, 4, 5, 13, 14, 19]\n",
      "Knapsack 2: [0, 1, 6, 9, 10, 16, 17]\n",
      "Solution(allocation=[2, 2, -1, 1, 1, 1, 2, 0, -1, 2, 2, -1, 0, 1, 1, -1, 2, 2, -1, 1], penalty=136, earnings=225, profit=89)\n"
     ]
    }
   ],
   "source": [
    "from cls.Solution import Solution\n",
    "from cls.InputData import InputData\n",
    "from cls.EvaluationLogic import EvaluationLogic\n",
    "\n",
    "import os\n",
    "\n",
    "data = InputData(os.path.join(os.getcwd(), \"Testinstanzen\", \"Instance01_m3_n20.json\"))\n",
    "evalutation = EvaluationLogic(data)\n",
    "\n",
    "sol = Solution([2, 2, -1, 1, 1, 1, 2, 0, -1, 2, 2, -1, 0, 1, 1, -1, 2, 2, -1, 1])\n",
    "evalutation.calcProfit(sol)\n",
    "sol.printSolution()\n",
    "print(sol)"
   ]
  },
  {
   "cell_type": "markdown",
   "metadata": {},
   "source": [
    "Um eine erste konstruktive Lösung zu ermitteln, wird versucht die Knapsacks nacheinander mit Items zu füllen, bis ein Knapsack voll ist. Dann wird der nächste Knapsack gefüllt, usw. Um die Lösung gleich ein bisschen zu verbessern, werden die Items nach Profit/Weight absteigend sortiert, es werden also bevorzugt kleine und wertvolle Items mitgenommen. Weiterhin werden die Knapsacks nach Penalty absteigend sortiert, damit der erste Knapsack möglichst voll wird und wenig Strafkosten generiert (am Anfang werden ja insbesondere kleine Items mitgenommen, damit lässt sich der Platz gut füllen).\n",
    "\n",
    "Die so gefundene Lösung wird evaluiert und in den SolutionPool hinzugefügt."
   ]
  },
  {
   "cell_type": "code",
   "execution_count": 7,
   "metadata": {},
   "outputs": [
    {
     "name": "stdout",
     "output_type": "stream",
     "text": [
      "Generating an initial solution according to greedy.\n",
      "SolutionPool(Solutions=[Solution(allocation=[2, 2, -1, 1, -1, 1, 2, 0, 1, 2, 2, -1, 0, 1, 1, -1, 2, 2, -1, 1], penalty=159, earnings=241, profit=82)])\n"
     ]
    }
   ],
   "source": [
    "from cls.ConstructiveHeuristic import ConstructiveHeuristics\n",
    "from cls.SolutionPool import SolutionPool\n",
    "\n",
    "pool = SolutionPool()\n",
    "heuristik = ConstructiveHeuristics(EvaluationLogic(data), pool)\n",
    "heuristik.Run(data, \"greedy\")\n",
    "print(pool)"
   ]
  },
  {
   "cell_type": "markdown",
   "metadata": {},
   "source": [
    "Für die Nachbarschaften musste ich dann immer nur Überprüfen, ob eine Lösung gültig ist oder nicht, deswegen gibt `EvaluationLogic.calcProfit()` auch immer einen Boolean zurück, ob die Lösung gültig ist. Ist eine Lösung nicht gültig, so wird diese nicht den MoveSolutions hinzugefügt. Es kann natürlich sein, dass eine Nachbarschaft mal gar keine gültige Lösung erzeugen kann, aber die nächste Nachbarschaft aus `BaseNeighborhood.MoveSolutions` die beste Lösung haben will. Im Fall, dass dieser leer ist, wird die beste Lösung aus dem SolutionPool zurückgegeben, indem ja mindestens immer die gültige konstruktive Lösung liegt.\n",
    "\n",
    "Es sind folgende Nachbarschaften implementiert:\n",
    "- Swap: Tauscht zwei Items\n",
    "- Insertion: Fügt ein Item mit einer bestimmten ID in einen Knapsack mit einer bestimmten ID ein\n",
    "- BlockMoveK3: (kommt aus dem letzten Semester)\n",
    "- TwoEdgeExchange: tauscht einige Items gleichzeitig aus\n",
    "\n",
    "Nach meinen bisherigen Erfahrungen erzeugen BlockMoveK3 und TwoEdgeExchange nur selten gültige Lösungen."
   ]
  },
  {
   "cell_type": "code",
   "execution_count": 8,
   "metadata": {},
   "outputs": [
    {
     "name": "stdout",
     "output_type": "stream",
     "text": [
      "Solution(allocation=[2, 2, -1, 1, 1, 1, 2, 0, -1, 2, 2, -1, 0, 1, 1, -1, 2, 2, -1, 1], penalty=136, earnings=225, profit=89)\n"
     ]
    }
   ],
   "source": [
    "from cls.Neighborhood import SwapNeighborhood\n",
    "\n",
    "swapN = SwapNeighborhood(data, pool.GetLowestProfitSolution().allocation, EvaluationLogic(data), pool)\n",
    "swapN.DiscoverMoves()\n",
    "swapN.EvaluateMoves(\"BestImprovement\")\n",
    "print(swapN.MakeBestMove())\n"
   ]
  },
  {
   "cell_type": "markdown",
   "metadata": {},
   "source": [
    "Die Tabu Search ist ein ImprovementAlgorithm, der eine gewissen Anzahl an Iterationen durchlaufen kann. Es wird zu einer Startlösung mittels IterativeImprovement eine Nachbarschaft aufgebaut und die beste Lösung in dieser Nachbarschaft rausgesucht. Ist diese Nachbarschaft allerdings in der Tabu Liste, so wird diese nicht angenommen, es sei denn, sie erfüllt ein Aspirationskriterium (besser als aktuell beste Lösung). Ich habe mich für ein langfristiges Gedächtnis entschieden, das war am leichtesten zu implmentieren, da nie Elemente aus der Tabu Liste entfernt werden müssen."
   ]
  },
  {
   "cell_type": "code",
   "execution_count": 9,
   "metadata": {},
   "outputs": [
    {
     "name": "stdout",
     "output_type": "stream",
     "text": [
      "Generating an initial solution according to greedy.\n",
      "Constructive solution found.\n",
      "Solution(allocation=[2, 2, -1, 1, -1, 1, 2, 0, 1, 2, 2, -1, 0, 1, 1, -1, 2, 2, -1, 1], penalty=159, earnings=241, profit=82)\n",
      "Best found Solution.\n",
      "Solution(allocation=[2, 2, -1, 1, 1, 1, 2, 0, -1, 2, 2, -1, 0, 1, 1, -1, 2, 2, -1, 1], penalty=136, earnings=225, profit=89)\n"
     ]
    }
   ],
   "source": [
    "from cls.Solver import Solver\n",
    "from cls.ImprovementAlgorithm import TabuSearch\n",
    "\n",
    "solver = Solver(data, 42)\n",
    "tabu = TabuSearch(data, 10, neighborhoodEvaluationStrategy = \"BestImprovement\", neighborhoodTypes = ['Swap', 'Insertion', 'BlockK3', 'TwoEdgeExchange'])\n",
    "bestSol = solver.RunLocalSearch(\"greedy\", tabu)"
   ]
  }
 ],
 "metadata": {
  "kernelspec": {
   "display_name": "Python 3.9.13 64-bit",
   "language": "python",
   "name": "python3"
  },
  "language_info": {
   "codemirror_mode": {
    "name": "ipython",
    "version": 3
   },
   "file_extension": ".py",
   "mimetype": "text/x-python",
   "name": "python",
   "nbconvert_exporter": "python",
   "pygments_lexer": "ipython3",
   "version": "3.9.13"
  },
  "orig_nbformat": 4,
  "vscode": {
   "interpreter": {
    "hash": "aee8b7b246df8f9039afb4144a1f6fd8d2ca17a180786b69acc140d282b71a49"
   }
  }
 },
 "nbformat": 4,
 "nbformat_minor": 2
}
